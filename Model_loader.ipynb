{
 "cells": [
  {
   "cell_type": "code",
   "execution_count": 37,
   "metadata": {},
   "outputs": [
    {
     "name": "stdout",
     "output_type": "stream",
     "text": [
      "Positive\n"
     ]
    }
   ],
   "source": [
    "#from sklearn.externals import joblib\n",
    "import pandas as pd\n",
    "import numpy as np\n",
    "from tensorflow import keras\n",
    "    \n",
    "    \n",
    "def ValuePredictor(to_predict_list):\n",
    "    to_predict = np.array(to_predict_list).reshape(1,8)\n",
    "    loaded_model = keras.models.load_model(\"covid_prediction_model_2.h5\")\n",
    "    result = loaded_model.predict(to_predict)\n",
    "    if result > 0.05:\n",
    "            prediction='Positive'\n",
    "    else:\n",
    "            prediction='Negative'\n",
    "    return prediction\n",
    "\n",
    "\n",
    "example_list=[1,1,0,0,0,0,0,1]\n",
    "print(ValuePredictor(example_list))"
   ]
  },
  {
   "cell_type": "code",
   "execution_count": 35,
   "metadata": {},
   "outputs": [
    {
     "name": "stdout",
     "output_type": "stream",
     "text": [
      "[[0.0784186]]\n"
     ]
    }
   ],
   "source": [
    "import pandas as pd\n",
    "import numpy as np\n",
    "from tensorflow import keras\n",
    "    \n",
    "    \n",
    "def ValuePredictor(to_predict_list):\n",
    "    to_predict = np.array(to_predict_list).reshape(1,8)\n",
    "    loaded_model = keras.models.load_model(\"covid_prediction_model_2.h5\")\n",
    "    result = loaded_model.predict(to_predict)\n",
    "    return result\n",
    "\n",
    "\n",
    "example_list=[1,1,0,0,0,0,0,1]\n",
    "print(ValuePredictor(example_list))"
   ]
  },
  {
   "cell_type": "code",
   "execution_count": null,
   "metadata": {},
   "outputs": [],
   "source": []
  }
 ],
 "metadata": {
  "kernelspec": {
   "display_name": "Python 3",
   "language": "python",
   "name": "python3"
  },
  "language_info": {
   "codemirror_mode": {
    "name": "ipython",
    "version": 3
   },
   "file_extension": ".py",
   "mimetype": "text/x-python",
   "name": "python",
   "nbconvert_exporter": "python",
   "pygments_lexer": "ipython3",
   "version": "3.7.3"
  }
 },
 "nbformat": 4,
 "nbformat_minor": 2
}
